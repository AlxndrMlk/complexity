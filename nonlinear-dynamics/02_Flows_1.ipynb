{
 "cells": [
  {
   "cell_type": "code",
   "execution_count": 2,
   "metadata": {},
   "outputs": [],
   "source": [
    "import numpy as np\n",
    "import matplotlib.pyplot as plt\n",
    "plt.style.use('fivethirtyeight')"
   ]
  },
  {
   "cell_type": "markdown",
   "metadata": {},
   "source": [
    "# Flows 1\n",
    "\n",
    "\n",
    "**Terminology**\n",
    "\n",
    "\n",
    "* $\\theta$ = angle\n",
    "\n",
    "\n",
    "* $\\omega$ = angular velocity\n",
    "\n",
    "\n",
    "**EXTRA** \n",
    "Notes on ODEs: https://www.cs.colorado.edu/~lizb/na/ode-notes.pdf"
   ]
  },
  {
   "cell_type": "markdown",
   "metadata": {},
   "source": [
    "## Matrices as transformations, eigenvalues and eigenvectors"
   ]
  },
  {
   "cell_type": "markdown",
   "metadata": {},
   "source": [
    "Let's imagine a matrix $M$:\n",
    "\n",
    "\n",
    "$$ \\large M = \\begin{bmatrix} 1 & 2 \\\\ 3 & 4 \\end{bmatrix}  $$\n",
    "\n",
    "\n",
    "To compute eigenvalues of $M$ we need to find value of $s$, so that:\n",
    "\n",
    "\n",
    "$$ \\large det \\begin{bmatrix} 1 - s & 2 \\\\ 3 & 4 - s \\end{bmatrix} = 0$$\n",
    "\n",
    "\n",
    "This gives us:\n",
    "\n",
    "\n",
    "$$ \\large (1 - s)(4 - s) - 3 \\cdot 2 = 0 $$\n",
    "\n",
    "$$ \\large s^2 - 5s - 2 = 0 $$\n",
    "\n",
    "\n",
    "Based on a **quadratic formula**:\n",
    "\n",
    "$$ \\large \\frac{-b \\pm \\sqrt{b^2 - 4ac}}{2a}$$\n",
    "\n",
    "we get:\n",
    "\n",
    "\n",
    "$$ \\large \\frac{5 \\pm \\sqrt{25 - 4 \\cdot 1 \\cdot (-2)}}{2}$$"
   ]
  },
  {
   "cell_type": "code",
   "execution_count": 2,
   "metadata": {},
   "outputs": [
    {
     "data": {
      "text/plain": [
       "(5.372281323269014, -0.3722813232690143)"
      ]
     },
     "execution_count": 2,
     "metadata": {},
     "output_type": "execute_result"
    }
   ],
   "source": [
    "(5 + np.sqrt(25 + 8)) / 2, (5 - np.sqrt(25 + 8)) / 2"
   ]
  },
  {
   "cell_type": "markdown",
   "metadata": {},
   "source": [
    "One of the eigenvalues is positive, the other onis negative.\n",
    "\n",
    "\n",
    "This leads to a situation, where one of the eigenvectors points inwards and the other points outwards. They create a **saddle** landscape.\n",
    "\n",
    "\n",
    "<img src = \"https://upload.wikimedia.org/wikipedia/commons/thumb/1/1e/Saddle_point.svg/450px-Saddle_point.svg.png\">"
   ]
  },
  {
   "cell_type": "code",
   "execution_count": 4,
   "metadata": {},
   "outputs": [],
   "source": [
    "# Calculate eigenvalues of the folowing matrix:\n",
    "M = np.array([\n",
    "    [4, 1],\n",
    "    [2, 3]\n",
    "])"
   ]
  },
  {
   "cell_type": "markdown",
   "metadata": {},
   "source": [
    "$$ (4 - s)(3 - s) - 2 = 0 $$\n",
    "\n",
    "\n",
    "$$ 12 - 3s - 4s + s^2 - 2 = 0 $$\n",
    "\n",
    "\n",
    "$$ s^2 - 7s + 10 = 0 $$\n",
    "\n",
    "\n",
    "$$ \\frac{7 \\pm \\sqrt{49 - 4 \\cdot 10}}{2} $$"
   ]
  },
  {
   "cell_type": "code",
   "execution_count": 10,
   "metadata": {},
   "outputs": [
    {
     "data": {
      "text/plain": [
       "(2.0, 5.0)"
      ]
     },
     "execution_count": 10,
     "metadata": {},
     "output_type": "execute_result"
    }
   ],
   "source": [
    "(7 - 3) / 2, (7 + 3) / 2"
   ]
  },
  {
   "cell_type": "code",
   "execution_count": 11,
   "metadata": {},
   "outputs": [
    {
     "data": {
      "text/plain": [
       "array([5., 2.])"
      ]
     },
     "execution_count": 11,
     "metadata": {},
     "output_type": "execute_result"
    }
   ],
   "source": [
    "# Sanity check\n",
    "np.linalg.eigvals(M)"
   ]
  },
  {
   "cell_type": "markdown",
   "metadata": {},
   "source": [
    "To remember:\n",
    "\n",
    "* A matrix can give you an **accurate representation** of the evolution of the state of a **linear** dynamical system.\n",
    "* A matrix can give you an **accurate *local* representation** of the evolution of the state of a **nonlinear** dynamical system."
   ]
  },
  {
   "cell_type": "code",
   "execution_count": 3,
   "metadata": {},
   "outputs": [],
   "source": [
    "bbb = np.array([[1,4],\n",
    "                [2,3]])"
   ]
  },
  {
   "cell_type": "markdown",
   "metadata": {},
   "source": [
    "\n",
    "(1 - s) * (3 - s) - 8 = 0\n",
    "\n",
    "3 - 3s - s + s^2 - 8 = 0\n",
    "\n",
    "s^2 - 4s - 5 = 0\n",
    "\n"
   ]
  },
  {
   "cell_type": "code",
   "execution_count": 6,
   "metadata": {},
   "outputs": [
    {
     "data": {
      "text/plain": [
       "(1.0, -5.0)"
      ]
     },
     "execution_count": 6,
     "metadata": {},
     "output_type": "execute_result"
    }
   ],
   "source": [
    "(- 4 + np.sqrt(16 - (4 * -5) )) / 2, (- 4 - np.sqrt(16 + 20 )) / 2"
   ]
  },
  {
   "cell_type": "code",
   "execution_count": 5,
   "metadata": {},
   "outputs": [
    {
     "data": {
      "text/plain": [
       "array([-1.,  5.])"
      ]
     },
     "execution_count": 5,
     "metadata": {},
     "output_type": "execute_result"
    }
   ],
   "source": [
    "np.linalg.eigvals(bbb)"
   ]
  },
  {
   "cell_type": "code",
   "execution_count": null,
   "metadata": {},
   "outputs": [],
   "source": []
  }
 ],
 "metadata": {
  "kernelspec": {
   "display_name": "Python 3",
   "language": "python",
   "name": "python3"
  },
  "language_info": {
   "codemirror_mode": {
    "name": "ipython",
    "version": 3
   },
   "file_extension": ".py",
   "mimetype": "text/x-python",
   "name": "python",
   "nbconvert_exporter": "python",
   "pygments_lexer": "ipython3",
   "version": "3.6.5"
  }
 },
 "nbformat": 4,
 "nbformat_minor": 2
}
